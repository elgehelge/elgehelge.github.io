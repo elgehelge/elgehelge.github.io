{
 "cells": [
  {
   "cell_type": "markdown",
   "metadata": {},
   "source": [
    "We are going define a function to compute the sum\n",
    "$$\\frac{1}{1^2} + \\frac{1}{2^2} + \\frac{1}{3^2} + \\ldots + \\frac{1}{n^2}$$\n",
    "where _n_ is an input parameter."
   ]
  },
  {
   "cell_type": "code",
   "execution_count": 1,
   "metadata": {
    "collapsed": false
   },
   "outputs": [],
   "source": [
    "import numba\n",
    "import Cython\n",
    "%load_ext Cython"
   ]
  },
  {
   "cell_type": "code",
   "execution_count": 2,
   "metadata": {
    "collapsed": false
   },
   "outputs": [
    {
     "name": "stdout",
     "output_type": "stream",
     "text": [
      "10 loops, best of 3: 19.8 ms per loop\n"
     ]
    }
   ],
   "source": [
    "# Pure Python\n",
    "def python_sum(n):\n",
    "    result = 0\n",
    "    for i in range(n):\n",
    "        result += 1./(i+1)**2\n",
    "    return result\n",
    "%timeit python_sum(100000)"
   ]
  },
  {
   "cell_type": "code",
   "execution_count": 3,
   "metadata": {
    "collapsed": false
   },
   "outputs": [],
   "source": [
    "%%cython\n",
    "def cython_sum(int n):\n",
    "    cdef double result\n",
    "    cdef int i\n",
    "    result = 0\n",
    "    for i in range(n):\n",
    "        result += 1./(i+1)**2\n",
    "    return result"
   ]
  },
  {
   "cell_type": "code",
   "execution_count": 4,
   "metadata": {
    "collapsed": false
   },
   "outputs": [
    {
     "name": "stdout",
     "output_type": "stream",
     "text": [
      "1000 loops, best of 3: 481 µs per loop\n"
     ]
    }
   ],
   "source": [
    "%timeit cython_sum(100000)"
   ]
  },
  {
   "cell_type": "code",
   "execution_count": 5,
   "metadata": {
    "collapsed": false
   },
   "outputs": [
    {
     "name": "stdout",
     "output_type": "stream",
     "text": [
      "The slowest run took 283.83 times longer than the fastest. This could mean that an intermediate result is being cached \n",
      "1000 loops, best of 3: 479 µs per loop\n"
     ]
    }
   ],
   "source": [
    "@numba.jit\n",
    "def numba_sum(n):\n",
    "    result = 0\n",
    "    for i in range(n):\n",
    "        result += 1./(i+1)**2\n",
    "    return result\n",
    "%timeit numba_sum(100000)"
   ]
  },
  {
   "cell_type": "code",
   "execution_count": null,
   "metadata": {
    "collapsed": true
   },
   "outputs": [],
   "source": []
  }
 ],
 "metadata": {
  "kernelspec": {
   "display_name": "Python 2",
   "language": "python",
   "name": "python2"
  },
  "language_info": {
   "codemirror_mode": {
    "name": "ipython",
    "version": 2
   },
   "file_extension": ".py",
   "mimetype": "text/x-python",
   "name": "python",
   "nbconvert_exporter": "python",
   "pygments_lexer": "ipython2",
   "version": "2.7.10"
  }
 },
 "nbformat": 4,
 "nbformat_minor": 0
}
